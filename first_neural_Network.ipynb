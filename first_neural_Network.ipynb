{
 "cells": [
  {
   "cell_type": "code",
   "execution_count": 7,
   "metadata": {},
   "outputs": [],
   "source": [
    "import numpy \n",
    "import scipy\n"
   ]
  },
  {
   "cell_type": "code",
   "execution_count": 10,
   "metadata": {},
   "outputs": [],
   "source": [
    "class neuralNetwork:\n",
    "    #import numpy\n",
    "    #initialise the network\n",
    "    def __init__(self, inputnodes, hiddennodes, outputnodes, learningrate):\n",
    "        import numpy\n",
    "        import scipy\n",
    "        \n",
    "        #set self, inputnodes, hiddennodes, outputnodes, learningrate\n",
    "        self.inodes = inputnodes\n",
    "        self.hnodes = hiddennodes\n",
    "        self.onodes = outputnodes\n",
    "        self.lr = learningrate\n",
    "        \n",
    "        \n",
    "        #link weight matrices, wih and who\n",
    "        #weight inside the arrays are w_i_j, where link is from node i to node j in next layer\n",
    "        #w11 w21\n",
    "        #w12 w22 etc\n",
    "        #below is input to hidden\n",
    "        self.wih = (numpy.random.rand(self.hnodes, self.inodes)-0.5)\n",
    "        #below is hidden to output\n",
    "        self.who = (numpy.random.rand(self.onodes, self.hnodes)-0.5)\n",
    "        \n",
    "        #a more sophisticated approach, sample the weights from a normal \n",
    "        #probability distribution centred around zero and with a standard\n",
    "        #deviation that is related to the number of incoming links into a \n",
    "        #node, 1/√(number of incoming links)\n",
    "        # (distribution center, std-dev, np-array-size)\n",
    "        self.wih = numpy.random.normal(0.0, pow(self.hnodes, -.5), (self.hnodes, self.inodes))\n",
    "        self.who = numpy.random.normal(0.0, pow(self.onodes, -.5), (self.onodes, self.hnodes))\n",
    "        \n",
    "        #activation function is a sigmoid function\n",
    "        self.activation_function = lambda x: scipy.special.expit(x)\n",
    "        \n",
    "        pass\n",
    "        \n",
    "    \n",
    "    #train network\n",
    "    def train(self, inputs_list, targets_list):\n",
    "        #convert inputs list to 2d array\n",
    "        inputs = numpy.array(inputs_list, ndmin=2).T\n",
    "        targets = numpy.array(targets_list, ndmin=2).T\n",
    "        \n",
    "        #calculate the signal to hidden layer\n",
    "        hidden_inputs = numpy.dot(self.wih, inputs)\n",
    "        #calculate signal coming out of hidden layer\n",
    "        hidden_outputs = self.activation_function(hidden_inputs)\n",
    "        \n",
    "        #calculate signals into final output layer\n",
    "        final_inputs = numpy.dot(self.who, hidden_outputs)\n",
    "        #calculate signals coming out of final output layer\n",
    "        final_outputs = self.activataion_function(final_inputs)\n",
    "        \n",
    "        #output layer error is the (target-actual)\n",
    "        output_errors = targets - final_outputs\n",
    "        #hidden layer error is the output_errors, split by weights, recombined at hidden nodes\n",
    "        hidden_errors = numpy.dot(self.who.T, output_errors)\n",
    "        \n",
    "        #update the weights for the links between the hidden and output layers\n",
    "        self.who += self.lr*numpy.dot((output_errors*final_outputs*(1.0-final_outputs)), numpy.transpose(hidden_outputs))\n",
    "        \n",
    "        #update the weight for the links between the input and hidden layers\n",
    "        self.wih += self.lr*numpy.dot((hidden_errors*hidden_outputs*(1.0-hidden_outputs)), numpy.transpose(inputs))\n",
    "        \n",
    "        pass\n",
    "    \n",
    "    #QUERY the network\n",
    "    def query(self, inputs_list):\n",
    "        #convert inputs list to 2d array\n",
    "        inputs = numpy.array(inputs_list, ndmin=2).T\n",
    "        \n",
    "        #calculate signals into hidden layer\n",
    "        hidden_inputs = numpy.dot(self.wih, inputs)\n",
    "        #calculate the signals emerging from hiddenlayer\n",
    "        hidden_outputs = self.activation_function(hidden_inputs)\n",
    "        \n",
    "        #calculate signals into final output layer\n",
    "        final_inputs = numpy.dot(self.who, hidden_outputs)\n",
    "        #calculate the signals emerging from final output layer\n",
    "        final_outputs = self.activation_function(final_inputs)\n",
    "        \n",
    "        return final_outputs\n",
    "    \n",
    "    def printThis():\n",
    "        print(inodes, hnodes, onodes, lr)"
   ]
  },
  {
   "cell_type": "code",
   "execution_count": 11,
   "metadata": {},
   "outputs": [],
   "source": [
    "inputnodes=3\n",
    "hiddennodes=3 \n",
    "outputnodes=3 \n",
    "learningrate=.8\n",
    "NN = neuralNetwork(inputnodes, hiddennodes, outputnodes, learningrate)\n"
   ]
  },
  {
   "cell_type": "code",
   "execution_count": 19,
   "metadata": {},
   "outputs": [
    {
     "data": {
      "text/plain": [
       "array([[0.56911411],\n",
       "       [0.5540493 ],\n",
       "       [0.59691407]])"
      ]
     },
     "execution_count": 19,
     "metadata": {},
     "output_type": "execute_result"
    }
   ],
   "source": [
    "NN.query([1.0, 3.5, -1.5])"
   ]
  },
  {
   "cell_type": "code",
   "execution_count": 39,
   "metadata": {},
   "outputs": [
    {
     "data": {
      "text/plain": [
       "array([[-0.06759488,  0.06715098, -0.23400487, -0.00836146],\n",
       "       [ 0.3008511 , -0.06956823,  0.05688468, -0.01805967],\n",
       "       [ 0.30087886, -0.56002772, -0.34785235,  0.79300105],\n",
       "       [ 0.12334526,  0.0858434 , -0.28231527,  0.59611638],\n",
       "       [ 0.05656274,  0.08419643, -0.42886879,  0.19947863]])"
      ]
     },
     "execution_count": 39,
     "metadata": {},
     "output_type": "execute_result"
    }
   ],
   "source": [
    "import numpy as np\n",
    "# np.random.rand(3,2) -.5\n",
    "np.random.normal(0.0, pow(9,-0.5),(5,4))"
   ]
  },
  {
   "cell_type": "code",
   "execution_count": null,
   "metadata": {},
   "outputs": [],
   "source": [
    "#scipy.special for sigmoid function expit()\n",
    "import scipy.special\n",
    "#activation func\n",
    "self.activate_function = lambda x: scipy.expit(x)"
   ]
  }
 ],
 "metadata": {
  "kernelspec": {
   "display_name": "Python 3",
   "language": "python",
   "name": "python3"
  },
  "language_info": {
   "codemirror_mode": {
    "name": "ipython",
    "version": 3
   },
   "file_extension": ".py",
   "mimetype": "text/x-python",
   "name": "python",
   "nbconvert_exporter": "python",
   "pygments_lexer": "ipython3",
   "version": "3.6.9"
  }
 },
 "nbformat": 4,
 "nbformat_minor": 2
}
