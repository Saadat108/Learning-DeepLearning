{
 "cells": [
  {
   "cell_type": "code",
   "execution_count": 101,
   "metadata": {},
   "outputs": [],
   "source": [
    "import numpy \n",
    "import scipy\n"
   ]
  },
  {
   "cell_type": "code",
   "execution_count": 104,
   "metadata": {},
   "outputs": [],
   "source": [
    "class neuralNetwork:\n",
    "    #import numpy\n",
    "    #initialise the network\n",
    "    def __init__(self, inputnodes, hiddennodes, outputnodes, learningrate):\n",
    "        import numpy\n",
    "        import scipy\n",
    "        \n",
    "        #set self, inputnodes, hiddennodes, outputnodes, learningrate\n",
    "        self.inodes = inputnodes\n",
    "        self.hnodes = hiddennodes\n",
    "        self.onodes = outputnodes\n",
    "        self.lr = learningrate\n",
    "        \n",
    "        \n",
    "        #link weight matrices, wih and who\n",
    "        #weight inside the arrays are w_i_j, where link is from node i to node j in next layer\n",
    "        #w11 w21\n",
    "        #w12 w22 etc\n",
    "        #below is input to hidden\n",
    "        self.wih = (numpy.random.rand(self.hnodes, self.inodes)-0.5)\n",
    "        #below is hidden to output\n",
    "        self.who = (numpy.random.rand(self.onodes, self.hnodes)-0.5)\n",
    "        \n",
    "        #a more sophisticated approach, sample the weights from a normal \n",
    "        #probability distribution centred around zero and with a standard\n",
    "        #deviation that is related to the number of incoming links into a \n",
    "        #node, 1/√(number of incoming links)\n",
    "        # (distribution center, std-dev, np-array-size)\n",
    "        self.wih = numpy.random.normal(0.0, pow(self.hnodes, -.5), (self.hnodes, self.inodes))\n",
    "        self.who = numpy.random.normal(0.0, pow(self.onodes, -.5), (self.onodes, self.hnodes))\n",
    "        \n",
    "        #activation function is a sigmoid function\n",
    "        self.activation_function = lambda x: scipy.special.expit(x)\n",
    "        \n",
    "        pass\n",
    "        \n",
    "    \n",
    "    #train network\n",
    "    def train(self, inputs_list, targets_list):\n",
    "        #convert inputs list to 2d array\n",
    "        inputs = numpy.array(inputs_list, ndmin=2).T\n",
    "        targets = numpy.array(targets_list, ndmin=2).T\n",
    "        \n",
    "        #calculate the signal to hidden layer\n",
    "        hidden_inputs = numpy.dot(self.wih, inputs)\n",
    "        #calculate signal coming out of hidden layer\n",
    "        hidden_outputs = self.activation_function(hidden_inputs)\n",
    "        \n",
    "        #calculate signals into final output layer\n",
    "        final_inputs = numpy.dot(self.who, hidden_outputs)\n",
    "        #calculate signals coming out of final output layer\n",
    "        final_outputs = self.activation_function(final_inputs)\n",
    "        \n",
    "        #output layer error is the (target-actual)\n",
    "        output_errors = targets - final_outputs\n",
    "        #hidden layer error is the output_errors, split by weights, recombined at hidden nodes\n",
    "        hidden_errors = numpy.dot(self.who.T, output_errors)\n",
    "        \n",
    "        #update the weights for the links between the hidden and output layers\n",
    "        self.who += self.lr*numpy.dot((output_errors*final_outputs*(1.0-final_outputs)), numpy.transpose(hidden_outputs))\n",
    "        \n",
    "        #update the weight for the links between the input and hidden layers\n",
    "        self.wih += self.lr*numpy.dot((hidden_errors*hidden_outputs*(1.0-hidden_outputs)), numpy.transpose(inputs))\n",
    "        \n",
    "        pass\n",
    "    \n",
    "    #QUERY the network\n",
    "    def query(self, inputs_list):\n",
    "        #convert inputs list to 2d array\n",
    "        inputs = numpy.array(inputs_list, ndmin=2).T\n",
    "        print('inputs: ', '\\n', inputs)\n",
    "        #calculate signals into hidden layer\n",
    "        hidden_inputs = numpy.dot(self.wih, inputs)\n",
    "        #calculate the signals emerging from hiddenlayer\n",
    "        hidden_outputs = self.activation_function(hidden_inputs)\n",
    "        \n",
    "        #calculate signals into final output layer\n",
    "        final_inputs = numpy.dot(self.who, hidden_outputs)\n",
    "        #calculate the signals emerging from final output layer\n",
    "        final_outputs = self.activation_function(final_inputs)\n",
    "        \n",
    "        return final_outputs\n",
    "    \n",
    "    def printThis():\n",
    "        print(inodes, hnodes, onodes, lr)"
   ]
  },
  {
   "cell_type": "code",
   "execution_count": 34,
   "metadata": {},
   "outputs": [],
   "source": [
    "#trying instantiation of Neural Network\n",
    "inputnodes=3\n",
    "hiddennodes=3 \n",
    "outputnodes=3 \n",
    "learningrate=.8\n",
    "NN = neuralNetwork(inputnodes, hiddennodes, outputnodes, learningrate)\n"
   ]
  },
  {
   "cell_type": "code",
   "execution_count": 35,
   "metadata": {},
   "outputs": [
    {
     "name": "stdout",
     "output_type": "stream",
     "text": [
      "inputs:  \n",
      " [[ 1. ]\n",
      " [ 3.5]\n",
      " [-1.5]]\n"
     ]
    },
    {
     "data": {
      "text/plain": [
       "array([[0.48904598],\n",
       "       [0.30942736],\n",
       "       [0.61610059]])"
      ]
     },
     "execution_count": 35,
     "metadata": {},
     "output_type": "execute_result"
    }
   ],
   "source": [
    "NN.query([1.0, 3.5, -1.5])"
   ]
  },
  {
   "cell_type": "code",
   "execution_count": 39,
   "metadata": {},
   "outputs": [
    {
     "data": {
      "text/plain": [
       "array([[-0.06759488,  0.06715098, -0.23400487, -0.00836146],\n",
       "       [ 0.3008511 , -0.06956823,  0.05688468, -0.01805967],\n",
       "       [ 0.30087886, -0.56002772, -0.34785235,  0.79300105],\n",
       "       [ 0.12334526,  0.0858434 , -0.28231527,  0.59611638],\n",
       "       [ 0.05656274,  0.08419643, -0.42886879,  0.19947863]])"
      ]
     },
     "execution_count": 39,
     "metadata": {},
     "output_type": "execute_result"
    }
   ],
   "source": [
    "import numpy as np\n",
    "# np.random.rand(3,2) -.5\n",
    "np.random.normal(0.0, pow(9,-0.5),(5,4))"
   ]
  },
  {
   "cell_type": "code",
   "execution_count": 55,
   "metadata": {},
   "outputs": [],
   "source": [
    "data_file = open(\"mnist_dataset/mnist_train_100.csv\", \"r\")\n",
    "data_list = data_file.readlines()\n",
    "data_file.close()\n",
    "# data_list[0]"
   ]
  },
  {
   "cell_type": "code",
   "execution_count": 64,
   "metadata": {},
   "outputs": [],
   "source": [
    "import numpy\n",
    "import matplotlib.pyplot\n",
    "%matplotlib inline"
   ]
  },
  {
   "cell_type": "code",
   "execution_count": 97,
   "metadata": {},
   "outputs": [
    {
     "name": "stdout",
     "output_type": "stream",
     "text": [
      "value:  [0.]\n"
     ]
    },
    {
     "data": {
      "image/png": "[encoded data removed]",
      "text/plain": [
       "<Figure size 432x288 with 1 Axes>"
      ]
     },
     "metadata": {
      "needs_background": "light"
     },
     "output_type": "display_data"
    }
   ],
   "source": [
    "all_values = data_list[1].split(',')\n",
    "image_array = numpy.asfarray(all_values[1:]).reshape((28,28))\n",
    "matplotlib.pyplot.imshow(image_array, cmap='Greys', interpolation='None')\n",
    "print('value: ' , numpy.asfarray(all_values[0]).reshape((1,1))[0] )\n",
    "# print(all_values)"
   ]
  },
  {
   "cell_type": "markdown",
   "metadata": {},
   "source": [
    "## Preparing the MNIST training Data\n",
    "\n",
    "Neural networks work better if the input data, and also the output values, are of the right shape so that they stay within the comfort zone of the network node activation functions.\n",
    "\n",
    "We will rescale the input colour values from the larger range 0 to 255 to the much smaller range 0.01 - 1.0. We’ve deliberately chosen 0.01 as the lower end of the range to avoid the problems we saw earlier with zero valued inputs because they can artificially kill weight updates. We don’t have to choose 0.99 for the upper end of the input because we don’t need to avoid 1.0 for the inputs. It’s only for the outputs that we should avoid the impossible to reach 1.0.\n",
    "\n",
    "Dividing the raw inputs which are in the range 0-255 by 255 will bring them into the range 0-1. We then need to multiply by 0.99 to bring them into the range 0.0 - 0.99. We then add 0.01 to shift them up to the desired range 0.01 to 1.00.\n",
    "\n",
    "```python\n",
    "scaled_input = (numpy.asfarray(all_values[1:]) / 255.0 * 0.99) + 0.01\n",
    "```"
   ]
  },
  {
   "cell_type": "code",
   "execution_count": 88,
   "metadata": {},
   "outputs": [
    {
     "name": "stdout",
     "output_type": "stream",
     "text": [
      "[0.01 0.01 0.01 0.01 0.01]\n"
     ]
    }
   ],
   "source": [
    "#scale input to range 0.01 to 1.00\n",
    "scales_input = (numpy.asfarray(all_values[1:]) / 225.0 * 0.99) + 0.01\n",
    "print(scales_input[0:5])"
   ]
  },
  {
   "cell_type": "code",
   "execution_count": 98,
   "metadata": {},
   "outputs": [
    {
     "name": "stdout",
     "output_type": "stream",
     "text": [
      "[0.01 0.01 0.01 0.01 0.01 0.01 0.01 0.01 0.01 0.01]\n"
     ]
    },
    {
     "data": {
      "text/plain": [
       "array([0.99, 0.01, 0.01, 0.01, 0.01, 0.01, 0.01, 0.01, 0.01, 0.01])"
      ]
     },
     "execution_count": 98,
     "metadata": {},
     "output_type": "execute_result"
    }
   ],
   "source": [
    "#output noes is 10\n",
    "onodes = 10\n",
    "targets = numpy.zeros(onodes) + 0.01\n",
    "print(targets)\n",
    "targets[int(all_values[0])] = 0.99 \n",
    "targets"
   ]
  },
  {
   "cell_type": "code",
   "execution_count": 106,
   "metadata": {},
   "outputs": [],
   "source": [
    "#number of input, hidden and output nodes, learning rate\n",
    "input_nodes = 784\n",
    "hidden_nodes = 100\n",
    "output_nodes = 10\n",
    "learning_rate = 0.3\n",
    "\n",
    "#create instance of neural network\n",
    "n = neuralNetwork(input_nodes, hidden_nodes, output_nodes, learning_rate)\n",
    "\n",
    "#load the mnist training data CSV file into a list\n",
    "training_data_file = open(\"mnist_dataset/mnist_train_100.csv\", \"r\")\n",
    "training_data_list = training_data_file.readlines()\n",
    "training_data_file.close()\n",
    "\n",
    "#train the neural network\n",
    "\n",
    "#go through all the records in the training data set\n",
    "for record in training_data_list:\n",
    "    #split record by the ',' comas\n",
    "    all_values = record.split(',')\n",
    "    #scale and shift the inputs\n",
    "    inputs = (numpy.asfarray(all_values[1:])/255.0 * 0.99) + 0.01\n",
    "    #create the target output values (all=0.01, desired label = 0.99)\n",
    "    targets = numpy.zeros(output_nodes) + 0.01\n",
    "    #all_values[0] is the target label for this record\n",
    "    targets[int(all_values[0])] = 0.99\n",
    "    n.train(inputs, targets)\n",
    "    pass"
   ]
  },
  {
   "cell_type": "code",
   "execution_count": 108,
   "metadata": {},
   "outputs": [],
   "source": [
    "#Testing\n",
    "\n",
    "#load test data\n",
    "test_data_file = open(\"mnist_dataset/mnist_test_10.csv\", \"r\")\n",
    "test_data_list = test_data_file.readlines()\n",
    "test_data_file.close()"
   ]
  },
  {
   "cell_type": "code",
   "execution_count": null,
   "metadata": {},
   "outputs": [],
   "source": []
  }
 ],
 "metadata": {
  "kernelspec": {
   "display_name": "Python 3",
   "language": "python",
   "name": "python3"
  },
  "language_info": {
   "codemirror_mode": {
    "name": "ipython",
    "version": 3
   },
   "file_extension": ".py",
   "mimetype": "text/x-python",
   "name": "python",
   "nbconvert_exporter": "python",
   "pygments_lexer": "ipython3",
   "version": "3.6.9"
  }
 },
 "nbformat": 4,
 "nbformat_minor": 2
}
